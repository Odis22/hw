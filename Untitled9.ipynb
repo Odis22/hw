{
 "cells": [
  {
   "cell_type": "code",
   "execution_count": 1,
   "id": "58497218",
   "metadata": {},
   "outputs": [],
   "source": [
    "import pandas as pd\n",
    "import numpy as np\n",
    "import seaborn as sns\n",
    "from sklearn.linear_model import LogisticRegression\n",
    "from sklearn.metrics import confusion_matrix\n",
    "from sklearn.model_selection import cross_val_score\n",
    "from sklearn.model_selection import cross_val_predict\n",
    "import warnings\n",
    "from sklearn.metrics import precision_score, recall_score\n",
    "import matplotlib.pyplot as plt\n",
    "warnings.filterwarnings(\"ignore\")"
   ]
  },
  {
   "cell_type": "markdown",
   "id": "73253404",
   "metadata": {},
   "source": [
    "## issues"
   ]
  },
  {
   "cell_type": "markdown",
   "id": "14e1fd5d",
   "metadata": {},
   "source": [
    "1.Borrowers background: How much are they making and How long have they been working there? Can they maintain the job? Whats their credit history and have they been able to keep up with loans for the most part and pay them off?"
   ]
  },
  {
   "cell_type": "markdown",
   "id": "9abb28d8",
   "metadata": {},
   "source": [
    "2.The loan request: How much do they need and what is it for? if they are using it to start a business, there is a chance you can get the money back."
   ]
  },
  {
   "cell_type": "code",
   "execution_count": 2,
   "id": "69ed7b57",
   "metadata": {},
   "outputs": [
    {
     "data": {
      "text/html": [
       "<div>\n",
       "<style scoped>\n",
       "    .dataframe tbody tr th:only-of-type {\n",
       "        vertical-align: middle;\n",
       "    }\n",
       "\n",
       "    .dataframe tbody tr th {\n",
       "        vertical-align: top;\n",
       "    }\n",
       "\n",
       "    .dataframe thead th {\n",
       "        text-align: right;\n",
       "    }\n",
       "</style>\n",
       "<table border=\"1\" class=\"dataframe\">\n",
       "  <thead>\n",
       "    <tr style=\"text-align: right;\">\n",
       "      <th></th>\n",
       "      <th>annual_inc</th>\n",
       "      <th>short_emp</th>\n",
       "      <th>emp_length_num</th>\n",
       "      <th>home_ownership</th>\n",
       "      <th>dti</th>\n",
       "      <th>purpose</th>\n",
       "      <th>term</th>\n",
       "      <th>last_delinq_none</th>\n",
       "      <th>last_major_derog_none</th>\n",
       "      <th>revol_util</th>\n",
       "      <th>total_rec_late_fee</th>\n",
       "      <th>od_ratio</th>\n",
       "      <th>bad_loan</th>\n",
       "    </tr>\n",
       "  </thead>\n",
       "  <tbody>\n",
       "    <tr>\n",
       "      <th>0</th>\n",
       "      <td>100000.0</td>\n",
       "      <td>1</td>\n",
       "      <td>1</td>\n",
       "      <td>1</td>\n",
       "      <td>26.27</td>\n",
       "      <td>0</td>\n",
       "      <td>36</td>\n",
       "      <td>1</td>\n",
       "      <td>0.0</td>\n",
       "      <td>43.2</td>\n",
       "      <td>0.0</td>\n",
       "      <td>0.160624</td>\n",
       "      <td>0</td>\n",
       "    </tr>\n",
       "    <tr>\n",
       "      <th>1</th>\n",
       "      <td>83000.0</td>\n",
       "      <td>0</td>\n",
       "      <td>4</td>\n",
       "      <td>2</td>\n",
       "      <td>5.39</td>\n",
       "      <td>0</td>\n",
       "      <td>36</td>\n",
       "      <td>0</td>\n",
       "      <td>0.0</td>\n",
       "      <td>21.5</td>\n",
       "      <td>0.0</td>\n",
       "      <td>0.810777</td>\n",
       "      <td>0</td>\n",
       "    </tr>\n",
       "    <tr>\n",
       "      <th>2</th>\n",
       "      <td>78000.0</td>\n",
       "      <td>0</td>\n",
       "      <td>11</td>\n",
       "      <td>0</td>\n",
       "      <td>18.45</td>\n",
       "      <td>1</td>\n",
       "      <td>60</td>\n",
       "      <td>1</td>\n",
       "      <td>0.0</td>\n",
       "      <td>46.3</td>\n",
       "      <td>0.0</td>\n",
       "      <td>0.035147</td>\n",
       "      <td>1</td>\n",
       "    </tr>\n",
       "    <tr>\n",
       "      <th>3</th>\n",
       "      <td>37536.0</td>\n",
       "      <td>0</td>\n",
       "      <td>6</td>\n",
       "      <td>0</td>\n",
       "      <td>12.28</td>\n",
       "      <td>2</td>\n",
       "      <td>60</td>\n",
       "      <td>0</td>\n",
       "      <td>0.0</td>\n",
       "      <td>10.7</td>\n",
       "      <td>0.0</td>\n",
       "      <td>0.534887</td>\n",
       "      <td>1</td>\n",
       "    </tr>\n",
       "    <tr>\n",
       "      <th>4</th>\n",
       "      <td>65000.0</td>\n",
       "      <td>0</td>\n",
       "      <td>11</td>\n",
       "      <td>0</td>\n",
       "      <td>11.26</td>\n",
       "      <td>1</td>\n",
       "      <td>36</td>\n",
       "      <td>0</td>\n",
       "      <td>0.0</td>\n",
       "      <td>15.2</td>\n",
       "      <td>0.0</td>\n",
       "      <td>0.166500</td>\n",
       "      <td>0</td>\n",
       "    </tr>\n",
       "    <tr>\n",
       "      <th>...</th>\n",
       "      <td>...</td>\n",
       "      <td>...</td>\n",
       "      <td>...</td>\n",
       "      <td>...</td>\n",
       "      <td>...</td>\n",
       "      <td>...</td>\n",
       "      <td>...</td>\n",
       "      <td>...</td>\n",
       "      <td>...</td>\n",
       "      <td>...</td>\n",
       "      <td>...</td>\n",
       "      <td>...</td>\n",
       "      <td>...</td>\n",
       "    </tr>\n",
       "    <tr>\n",
       "      <th>19995</th>\n",
       "      <td>27000.0</td>\n",
       "      <td>0</td>\n",
       "      <td>9</td>\n",
       "      <td>1</td>\n",
       "      <td>18.36</td>\n",
       "      <td>1</td>\n",
       "      <td>36</td>\n",
       "      <td>1</td>\n",
       "      <td>0.0</td>\n",
       "      <td>46.5</td>\n",
       "      <td>0.0</td>\n",
       "      <td>0.821782</td>\n",
       "      <td>1</td>\n",
       "    </tr>\n",
       "    <tr>\n",
       "      <th>19996</th>\n",
       "      <td>45000.0</td>\n",
       "      <td>0</td>\n",
       "      <td>2</td>\n",
       "      <td>0</td>\n",
       "      <td>23.22</td>\n",
       "      <td>6</td>\n",
       "      <td>36</td>\n",
       "      <td>0</td>\n",
       "      <td>0.0</td>\n",
       "      <td>46.2</td>\n",
       "      <td>0.0</td>\n",
       "      <td>0.652200</td>\n",
       "      <td>0</td>\n",
       "    </tr>\n",
       "    <tr>\n",
       "      <th>19997</th>\n",
       "      <td>104000.0</td>\n",
       "      <td>0</td>\n",
       "      <td>5</td>\n",
       "      <td>0</td>\n",
       "      <td>13.27</td>\n",
       "      <td>1</td>\n",
       "      <td>36</td>\n",
       "      <td>1</td>\n",
       "      <td>0.0</td>\n",
       "      <td>78.5</td>\n",
       "      <td>0.0</td>\n",
       "      <td>0.482555</td>\n",
       "      <td>0</td>\n",
       "    </tr>\n",
       "    <tr>\n",
       "      <th>19998</th>\n",
       "      <td>38400.0</td>\n",
       "      <td>0</td>\n",
       "      <td>2</td>\n",
       "      <td>0</td>\n",
       "      <td>12.84</td>\n",
       "      <td>1</td>\n",
       "      <td>36</td>\n",
       "      <td>0</td>\n",
       "      <td>0.0</td>\n",
       "      <td>47.4</td>\n",
       "      <td>0.0</td>\n",
       "      <td>0.822980</td>\n",
       "      <td>0</td>\n",
       "    </tr>\n",
       "    <tr>\n",
       "      <th>19999</th>\n",
       "      <td>150000.0</td>\n",
       "      <td>0</td>\n",
       "      <td>11</td>\n",
       "      <td>0</td>\n",
       "      <td>2.20</td>\n",
       "      <td>0</td>\n",
       "      <td>36</td>\n",
       "      <td>0</td>\n",
       "      <td>0.0</td>\n",
       "      <td>40.7</td>\n",
       "      <td>0.0</td>\n",
       "      <td>0.201388</td>\n",
       "      <td>0</td>\n",
       "    </tr>\n",
       "  </tbody>\n",
       "</table>\n",
       "<p>20000 rows × 13 columns</p>\n",
       "</div>"
      ],
      "text/plain": [
       "       annual_inc  short_emp  emp_length_num home_ownership    dti purpose  \\\n",
       "0        100000.0          1               1              1  26.27       0   \n",
       "1         83000.0          0               4              2   5.39       0   \n",
       "2         78000.0          0              11              0  18.45       1   \n",
       "3         37536.0          0               6              0  12.28       2   \n",
       "4         65000.0          0              11              0  11.26       1   \n",
       "...           ...        ...             ...            ...    ...     ...   \n",
       "19995     27000.0          0               9              1  18.36       1   \n",
       "19996     45000.0          0               2              0  23.22       6   \n",
       "19997    104000.0          0               5              0  13.27       1   \n",
       "19998     38400.0          0               2              0  12.84       1   \n",
       "19999    150000.0          0              11              0   2.20       0   \n",
       "\n",
       "       term  last_delinq_none  last_major_derog_none  revol_util  \\\n",
       "0        36                 1                    0.0        43.2   \n",
       "1        36                 0                    0.0        21.5   \n",
       "2        60                 1                    0.0        46.3   \n",
       "3        60                 0                    0.0        10.7   \n",
       "4        36                 0                    0.0        15.2   \n",
       "...     ...               ...                    ...         ...   \n",
       "19995    36                 1                    0.0        46.5   \n",
       "19996    36                 0                    0.0        46.2   \n",
       "19997    36                 1                    0.0        78.5   \n",
       "19998    36                 0                    0.0        47.4   \n",
       "19999    36                 0                    0.0        40.7   \n",
       "\n",
       "       total_rec_late_fee  od_ratio  bad_loan  \n",
       "0                     0.0  0.160624         0  \n",
       "1                     0.0  0.810777         0  \n",
       "2                     0.0  0.035147         1  \n",
       "3                     0.0  0.534887         1  \n",
       "4                     0.0  0.166500         0  \n",
       "...                   ...       ...       ...  \n",
       "19995                 0.0  0.821782         1  \n",
       "19996                 0.0  0.652200         0  \n",
       "19997                 0.0  0.482555         0  \n",
       "19998                 0.0  0.822980         0  \n",
       "19999                 0.0  0.201388         0  \n",
       "\n",
       "[20000 rows x 13 columns]"
      ]
     },
     "execution_count": 2,
     "metadata": {},
     "output_type": "execute_result"
    }
   ],
   "source": [
    "dataset = pd.read_csv('lending_club_loan_dataset.csv')\n",
    "dataset.fillna(0, inplace=True)\n",
    "df= dataset.drop(columns=['id', 'grade'], axis=1)\n",
    "\n",
    "df.home_ownership.replace(('MORTGAGE', 'RENT','OWN','0' ), (0,1,2,3), inplace = True)\n",
    "df[\"home_ownership\"] = df[\"home_ownership\"].astype(\"object\")\n",
    "df.purpose.replace(('credit_card', 'debt_consolidation','medical','other' , 'home_improvement', 'small_business','major_purchase','vacation', 'car', 'house','OWN','moving','wedding'), (0,1,2,3,4,5,6,7,8,9,10,11,12), inplace = True)\n",
    "df[\"purpose\"] = df[\"purpose\"].astype(\"object\")\n",
    "df"
   ]
  },
  {
   "cell_type": "code",
   "execution_count": 3,
   "id": "55903c2b",
   "metadata": {},
   "outputs": [
    {
     "name": "stdout",
     "output_type": "stream",
     "text": [
      "bad_loan\n",
      "0    15.924163\n",
      "1    18.603922\n",
      "Name: dti, dtype: float64\n"
     ]
    },
    {
     "data": {
      "image/png": "[encoded data removed]",
      "text/plain": [
       "<Figure size 432x288 with 1 Axes>"
      ]
     },
     "metadata": {
      "needs_background": "light"
     },
     "output_type": "display_data"
    }
   ],
   "source": [
    "import matplotlib.pyplot as plt\n",
    "\n",
    "\n",
    "a = df.groupby(\"bad_loan\")[\"dti\"].mean()\n",
    "print(a)\n",
    "x = list(a.index)\n",
    "y = list(a)\n",
    "\n",
    "fig, ax = plt.subplots()    \n",
    "width = 0.75 # the width of the bars \n",
    "ind = np.arange(len(y))  # the x locations for the groups\n",
    "ax.barh(ind, y, width, color=\"blue\")\n",
    "ax.set_yticks(ind+width/2)\n",
    "ax.set_yticklabels(x, minor=False)\n",
    "for i, v in enumerate(y):\n",
    "    ax.text(v + .25, i + .25, str(v), color='blue', fontweight='bold') #add value labels into bar\n",
    "plt.title('averages debt to income ratio by average')\n",
    "plt.xlabel('dti')\n",
    "plt.ylabel('default status')\n",
    "plt.show()"
   ]
  },
  {
   "cell_type": "code",
   "execution_count": 5,
   "id": "565c440b",
   "metadata": {},
   "outputs": [
    {
     "name": "stdout",
     "output_type": "stream",
     "text": [
      "bad_loan\n",
      "0    6.899563\n",
      "1    6.508750\n",
      "Name: emp_length_num, dtype: float64\n"
     ]
    },
    {
     "data": {
      "image/png": "[encoded data removed]",
      "text/plain": [
       "<Figure size 432x288 with 1 Axes>"
      ]
     },
     "metadata": {
      "needs_background": "light"
     },
     "output_type": "display_data"
    }
   ],
   "source": [
    "b = df.groupby(\"bad_loan\")[\"emp_length_num\"].mean()\n",
    "print(b)\n",
    "x = list(b.index)\n",
    "y = list(b)\n",
    "\n",
    "fig, ax = plt.subplots()    \n",
    "width = 0.75 # the width of the bars \n",
    "ind = np.arange(len(y))  # the x locations for the groups\n",
    "ax.barh(ind, y, width, color=\"blue\")\n",
    "ax.set_yticks(ind+width/2)\n",
    "ax.set_yticklabels(x, minor=False)\n",
    "for i, v in enumerate(y):\n",
    "    ax.text(v + .25, i + .25, str(v), color='blue', fontweight='bold') #add value labels into bar\n",
    "plt.title('default status by employee')\n",
    "plt.xlabel('employee length')\n",
    "plt.ylabel('default status')\n",
    "plt.show()"
   ]
  },
  {
   "cell_type": "code",
   "execution_count": 7,
   "id": "a3292f8d",
   "metadata": {},
   "outputs": [
    {
     "data": {
      "image/png": "[encoded data removed]",
      "text/plain": [
       "<Figure size 432x288 with 1 Axes>"
      ]
     },
     "metadata": {
      "needs_background": "light"
     },
     "output_type": "display_data"
    }
   ],
   "source": [
    "sales_by_type = df.groupby(\"bad_loan\")[\"annual_inc\"].mean()\n",
    "# Create a bar plot of the number of avocados sold by size room_type\n",
    "sales_by_type.plot(kind=\"bar\")\n",
    "\n",
    "# Show the plot\n",
    "plt.show()"
   ]
  },
  {
   "cell_type": "code",
   "execution_count": 27,
   "id": "a038e7f5",
   "metadata": {},
   "outputs": [
    {
     "data": {
      "image/png": "[encoded data removed]",
      "text/plain": [
       "<Figure size 432x288 with 1 Axes>"
      ]
     },
     "metadata": {
      "needs_background": "light"
     },
     "output_type": "display_data"
    }
   ],
   "source": [
    "nodefault = df[df.bad_loan != 1]\n",
    "default = df[df.bad_loan != 0]\n",
    "\n",
    "\n",
    "sales_by_type = default.groupby(\"home_ownership\")[\"bad_loan\"].sum()\n",
    "# Create a bar plot of the number of avocados sold by size room_type home_ownership bad_loan\n",
    "sales_by_type.plot(kind=\"bar\")\n",
    "#ax = df.plot.bar(y='home_ownership', rot=0)\n",
    "# Show the plot\n",
    "plt.show()"
   ]
  },
  {
   "cell_type": "code",
   "execution_count": 32,
   "id": "f89ac3cb",
   "metadata": {},
   "outputs": [
    {
     "data": {
      "text/plain": [
       "10278"
      ]
     },
     "execution_count": 32,
     "metadata": {},
     "output_type": "execute_result"
    }
   ],
   "source": [
    "sale_by_type = nodefault.groupby(\"home_ownership\")[\"bad_loan\"].sum()\n",
    "#sale_by_type.plot(kind=\"bar\")\n",
    "#ax = df.plot.bar(y='home_ownership', rot=0)\n",
    "# Show the plot\n",
    "#plt.show()\n",
    "sale_by_type\n",
    "allhome = df[\"home_ownership\"].sum()\n",
    "allhome"
   ]
  },
  {
   "cell_type": "code",
   "execution_count": 33,
   "id": "f6aab444",
   "metadata": {},
   "outputs": [
    {
     "data": {
      "text/plain": [
       "0    9335\n",
       "1    5368\n",
       "2    1297\n",
       "Name: home_ownership, dtype: int64"
      ]
     },
     "execution_count": 33,
     "metadata": {},
     "output_type": "execute_result"
    }
   ],
   "source": [
    "nodefault['home_ownership'].value_counts()"
   ]
  },
  {
   "cell_type": "code",
   "execution_count": 34,
   "id": "c6d546e1",
   "metadata": {},
   "outputs": [
    {
     "data": {
      "text/plain": [
       "0    2000\n",
       "1    1684\n",
       "2     316\n",
       "Name: home_ownership, dtype: int64"
      ]
     },
     "execution_count": 34,
     "metadata": {},
     "output_type": "execute_result"
    }
   ],
   "source": [
    "default['home_ownership'].value_counts()"
   ]
  },
  {
   "cell_type": "code",
   "execution_count": 35,
   "id": "dd694b9b",
   "metadata": {},
   "outputs": [
    {
     "data": {
      "text/plain": [
       "1     2482\n",
       "0      702\n",
       "3      274\n",
       "4      209\n",
       "5       88\n",
       "6       86\n",
       "2       39\n",
       "11      30\n",
       "8       30\n",
       "7       26\n",
       "12      19\n",
       "9       15\n",
       "Name: purpose, dtype: int64"
      ]
     },
     "execution_count": 35,
     "metadata": {},
     "output_type": "execute_result"
    }
   ],
   "source": [
    "default['purpose'].value_counts()"
   ]
  },
  {
   "cell_type": "code",
   "execution_count": 36,
   "id": "77c1821e",
   "metadata": {},
   "outputs": [
    {
     "data": {
      "text/plain": [
       "1     9855\n",
       "0     3435\n",
       "4      887\n",
       "3      747\n",
       "6      293\n",
       "5      177\n",
       "8      138\n",
       "2      136\n",
       "11      93\n",
       "7       86\n",
       "9       86\n",
       "12      67\n",
       "Name: purpose, dtype: int64"
      ]
     },
     "execution_count": 36,
     "metadata": {},
     "output_type": "execute_result"
    }
   ],
   "source": [
    "nodefault['purpose'].value_counts()"
   ]
  },
  {
   "cell_type": "code",
   "execution_count": 38,
   "id": "aa40b348",
   "metadata": {},
   "outputs": [
    {
     "name": "stdout",
     "output_type": "stream",
     "text": [
      "home_ownership\n",
      "0    16.407486\n",
      "1    16.449515\n",
      "2    16.876299\n",
      "Name: dti, dtype: float64\n"
     ]
    },
    {
     "data": {
      "image/png": "[encoded data removed]",
      "text/plain": [
       "<Figure size 432x288 with 1 Axes>"
      ]
     },
     "metadata": {
      "needs_background": "light"
     },
     "output_type": "display_data"
    }
   ],
   "source": [
    "import matplotlib.pyplot as plt\n",
    "\n",
    "\n",
    "c = df.groupby(\"home_ownership\")[\"dti\"].mean()\n",
    "print(c)\n",
    "x = list(c.index)\n",
    "y = list(c)\n",
    "\n",
    "fig, ax = plt.subplots()    \n",
    "width = 0.75 # the width of the bars \n",
    "ind = np.arange(len(y))  # the x locations for the groups\n",
    "ax.barh(ind, y, width, color=\"blue\")\n",
    "ax.set_yticks(ind+width/2)\n",
    "ax.set_yticklabels(x, minor=False)\n",
    "for i, v in enumerate(y):\n",
    "    ax.text(v + .25, i + .25, str(v), color='blue', fontweight='bold') #add value labels into bar\n",
    "plt.title('home ownership debt to income ratio')\n",
    "plt.xlabel('home_ownership')\n",
    "plt.ylabel('dti')\n",
    "plt.show()"
   ]
  },
  {
   "cell_type": "code",
   "execution_count": 39,
   "id": "cba65bcd",
   "metadata": {},
   "outputs": [],
   "source": [
    "x = pd.get_dummies(df.drop(['bad_loan'], axis = 1))\n",
    "y = df.bad_loan"
   ]
  },
  {
   "cell_type": "code",
   "execution_count": 40,
   "id": "5d567a87",
   "metadata": {},
   "outputs": [],
   "source": [
    "# Using model selection to break data into training and testing set\n",
    "from sklearn.model_selection import train_test_split\n",
    "X_train, X_test, Y_train, Y_test = train_test_split(x, y , train_size = 0.8, random_state=1)"
   ]
  },
  {
   "cell_type": "code",
   "execution_count": 41,
   "id": "dcd1a402",
   "metadata": {},
   "outputs": [
    {
     "data": {
      "text/plain": [
       "LogisticRegression()"
      ]
     },
     "execution_count": 41,
     "metadata": {},
     "output_type": "execute_result"
    }
   ],
   "source": [
    "# Using Linear Model and select Logistic Regression\n",
    "from sklearn.linear_model import LogisticRegression\n",
    "model = LogisticRegression()\n",
    "model.fit(X_train,Y_train)"
   ]
  },
  {
   "cell_type": "code",
   "execution_count": 42,
   "id": "d69099d0",
   "metadata": {},
   "outputs": [],
   "source": [
    "# Do Model prediction on test data\n",
    "prediction = model.predict(X_test)"
   ]
  },
  {
   "cell_type": "code",
   "execution_count": 43,
   "id": "5b302cfd",
   "metadata": {},
   "outputs": [
    {
     "data": {
      "text/plain": [
       "0.7995"
      ]
     },
     "execution_count": 43,
     "metadata": {},
     "output_type": "execute_result"
    }
   ],
   "source": [
    "# Use metrics to do accuracy score and understand the model accuracy\n",
    "from sklearn.metrics import accuracy_score\n",
    "accuracy_score(prediction,Y_test)"
   ]
  },
  {
   "cell_type": "code",
   "execution_count": null,
   "id": "3fe2aeda",
   "metadata": {},
   "outputs": [],
   "source": []
  }
 ],
 "metadata": {
  "kernelspec": {
   "display_name": "Python 3 (ipykernel)",
   "language": "python",
   "name": "python3"
  },
  "language_info": {
   "codemirror_mode": {
    "name": "ipython",
    "version": 3
   },
   "file_extension": ".py",
   "mimetype": "text/x-python",
   "name": "python",
   "nbconvert_exporter": "python",
   "pygments_lexer": "ipython3",
   "version": "3.9.7"
  }
 },
 "nbformat": 4,
 "nbformat_minor": 5
}
