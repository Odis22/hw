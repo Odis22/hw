{
 "cells": [
  {
   "cell_type": "markdown",
   "metadata": {},
   "source": [
    "### Welcome to the Airbnb Mini Practice Project\n",
    "\n",
    "Throughout this unit on Python Data Analytics, you'be been introduced the the following powerful libraries:\n",
    "\n",
    "<li> Matplotlib </li>\n",
    "<li> Seaborn </li>\n",
    "<li> Pandas </li> \n",
    "    \n",
    "Each of these libraries will enhance your data analysis capabilities.\n",
    "\n",
    "We've created this challenging exercise to reinforce your understanding of how these libraries work. \n",
    "\n",
    "Please note, there is a particular emphasis on the Pandas Library. This is the most critical Python library for data analytics. You'll see many similarities between Pandas and Pivot Tables!\n",
    "    \n",
    "<b> The most important thing you can do to build confidence with Python is to practice programming, all the time. This way you will build muscle memory. Don't simply copy the code you've written previously. Write it again and again so you store it in your memory. </b> \n",
    "\n",
    "<b> As this is a practice exercise, we've included a copy of what the outputs *should* look like for the majority of the questions to give you some guidance. </b>\n",
    "\n",
    "<H3>  Time to get started! </H3>"
   ]
  },
  {
   "cell_type": "markdown",
   "metadata": {},
   "source": [
    "Import the airbnb_2.csv file.\n",
    "\n",
    "Once you do this, you can start your analysis.\n",
    "\n",
    "<b> Don't forget to import the libraries you need to read .csv files! </b> \n",
    "\n"
   ]
  },
  {
   "cell_type": "markdown",
   "metadata": {},
   "source": [
    "### Step 1: <span style=\"color:green\">Import Libraries</span> \n",
    "<b> Put your code in the box below. </b>\n"
   ]
  },
  {
   "cell_type": "code",
   "execution_count": 2,
   "metadata": {},
   "outputs": [],
   "source": [
    "import pandas as pd\n",
    "import numpy as np"
   ]
  },
  {
   "cell_type": "markdown",
   "metadata": {},
   "source": [
    "### Step 2: <span style=\"color:green\">Import the Airbnb Dataset</span> "
   ]
  },
  {
   "cell_type": "markdown",
   "metadata": {},
   "source": [
    "Now that you have the Pandas Libraries imported, it's time to import the Airbnb dataset.\n",
    "\n",
    "<b> i) Import the Airbnb dataset.\n",
    "\n",
    "ii) Use .info() function to better understand the variables inside your dataset.\n",
    "<p>    \n",
    "\n",
    "<b> Put your code in the box below </b>"
   ]
  },
  {
   "cell_type": "code",
   "execution_count": 3,
   "metadata": {},
   "outputs": [],
   "source": [
    "airbnb = pd.read_csv(\"airbnb_2.csv\")\n"
   ]
  },
  {
   "cell_type": "code",
   "execution_count": 4,
   "metadata": {},
   "outputs": [
    {
     "data": {
      "text/html": [
       "<div>\n",
       "<style scoped>\n",
       "    .dataframe tbody tr th:only-of-type {\n",
       "        vertical-align: middle;\n",
       "    }\n",
       "\n",
       "    .dataframe tbody tr th {\n",
       "        vertical-align: top;\n",
       "    }\n",
       "\n",
       "    .dataframe thead th {\n",
       "        text-align: right;\n",
       "    }\n",
       "</style>\n",
       "<table border=\"1\" class=\"dataframe\">\n",
       "  <thead>\n",
       "    <tr style=\"text-align: right;\">\n",
       "      <th></th>\n",
       "      <th>id</th>\n",
       "      <th>name</th>\n",
       "      <th>host_id</th>\n",
       "      <th>host_name</th>\n",
       "      <th>neighbourhood_group</th>\n",
       "      <th>neighbourhood</th>\n",
       "      <th>latitude</th>\n",
       "      <th>longitude</th>\n",
       "      <th>room_type</th>\n",
       "      <th>price</th>\n",
       "      <th>minimum_nights</th>\n",
       "      <th>number_of_reviews</th>\n",
       "      <th>last_review</th>\n",
       "      <th>reviews_per_month</th>\n",
       "      <th>calculated_host_listings_count</th>\n",
       "      <th>availability_365</th>\n",
       "    </tr>\n",
       "  </thead>\n",
       "  <tbody>\n",
       "    <tr>\n",
       "      <th>0</th>\n",
       "      <td>2539</td>\n",
       "      <td>Clean &amp; quiet apt home by the park</td>\n",
       "      <td>2787</td>\n",
       "      <td>John</td>\n",
       "      <td>Brooklyn</td>\n",
       "      <td>Kensington</td>\n",
       "      <td>40.64749</td>\n",
       "      <td>-73.97237</td>\n",
       "      <td>Private room</td>\n",
       "      <td>149</td>\n",
       "      <td>1</td>\n",
       "      <td>9</td>\n",
       "      <td>19/10/2018</td>\n",
       "      <td>0.21</td>\n",
       "      <td>6</td>\n",
       "      <td>365</td>\n",
       "    </tr>\n",
       "    <tr>\n",
       "      <th>1</th>\n",
       "      <td>2595</td>\n",
       "      <td>Skylit Midtown Castle</td>\n",
       "      <td>2845</td>\n",
       "      <td>Jennifer</td>\n",
       "      <td>Manhattan</td>\n",
       "      <td>Midtown</td>\n",
       "      <td>40.75362</td>\n",
       "      <td>-73.98377</td>\n",
       "      <td>Entire home/apt</td>\n",
       "      <td>225</td>\n",
       "      <td>1</td>\n",
       "      <td>45</td>\n",
       "      <td>21/05/2019</td>\n",
       "      <td>0.38</td>\n",
       "      <td>2</td>\n",
       "      <td>355</td>\n",
       "    </tr>\n",
       "    <tr>\n",
       "      <th>2</th>\n",
       "      <td>3647</td>\n",
       "      <td>THE VILLAGE OF HARLEM....NEW YORK !</td>\n",
       "      <td>4632</td>\n",
       "      <td>Elisabeth</td>\n",
       "      <td>Manhattan</td>\n",
       "      <td>Harlem</td>\n",
       "      <td>40.80902</td>\n",
       "      <td>-73.94190</td>\n",
       "      <td>Private room</td>\n",
       "      <td>150</td>\n",
       "      <td>3</td>\n",
       "      <td>0</td>\n",
       "      <td>NaN</td>\n",
       "      <td>NaN</td>\n",
       "      <td>1</td>\n",
       "      <td>365</td>\n",
       "    </tr>\n",
       "    <tr>\n",
       "      <th>3</th>\n",
       "      <td>3831</td>\n",
       "      <td>Cozy Entire Floor of Brownstone</td>\n",
       "      <td>4869</td>\n",
       "      <td>LisaRoxanne</td>\n",
       "      <td>Brooklyn</td>\n",
       "      <td>Clinton Hill</td>\n",
       "      <td>40.68514</td>\n",
       "      <td>-73.95976</td>\n",
       "      <td>Entire home/apt</td>\n",
       "      <td>89</td>\n",
       "      <td>1</td>\n",
       "      <td>270</td>\n",
       "      <td>5/07/2019</td>\n",
       "      <td>4.64</td>\n",
       "      <td>1</td>\n",
       "      <td>194</td>\n",
       "    </tr>\n",
       "    <tr>\n",
       "      <th>4</th>\n",
       "      <td>5022</td>\n",
       "      <td>Entire Apt: Spacious Studio/Loft by central park</td>\n",
       "      <td>7192</td>\n",
       "      <td>Laura</td>\n",
       "      <td>Manhattan</td>\n",
       "      <td>East Harlem</td>\n",
       "      <td>40.79851</td>\n",
       "      <td>-73.94399</td>\n",
       "      <td>Entire home/apt</td>\n",
       "      <td>80</td>\n",
       "      <td>10</td>\n",
       "      <td>9</td>\n",
       "      <td>19/11/2018</td>\n",
       "      <td>0.10</td>\n",
       "      <td>1</td>\n",
       "      <td>0</td>\n",
       "    </tr>\n",
       "  </tbody>\n",
       "</table>\n",
       "</div>"
      ],
      "text/plain": [
       "     id                                              name  host_id  \\\n",
       "0  2539                Clean & quiet apt home by the park     2787   \n",
       "1  2595                             Skylit Midtown Castle     2845   \n",
       "2  3647               THE VILLAGE OF HARLEM....NEW YORK !     4632   \n",
       "3  3831                   Cozy Entire Floor of Brownstone     4869   \n",
       "4  5022  Entire Apt: Spacious Studio/Loft by central park     7192   \n",
       "\n",
       "     host_name neighbourhood_group neighbourhood  latitude  longitude  \\\n",
       "0         John            Brooklyn    Kensington  40.64749  -73.97237   \n",
       "1     Jennifer           Manhattan       Midtown  40.75362  -73.98377   \n",
       "2    Elisabeth           Manhattan        Harlem  40.80902  -73.94190   \n",
       "3  LisaRoxanne            Brooklyn  Clinton Hill  40.68514  -73.95976   \n",
       "4        Laura           Manhattan   East Harlem  40.79851  -73.94399   \n",
       "\n",
       "         room_type  price  minimum_nights  number_of_reviews last_review  \\\n",
       "0     Private room    149               1                  9  19/10/2018   \n",
       "1  Entire home/apt    225               1                 45  21/05/2019   \n",
       "2     Private room    150               3                  0         NaN   \n",
       "3  Entire home/apt     89               1                270   5/07/2019   \n",
       "4  Entire home/apt     80              10                  9  19/11/2018   \n",
       "\n",
       "   reviews_per_month  calculated_host_listings_count  availability_365  \n",
       "0               0.21                               6               365  \n",
       "1               0.38                               2               355  \n",
       "2                NaN                               1               365  \n",
       "3               4.64                               1               194  \n",
       "4               0.10                               1                 0  "
      ]
     },
     "execution_count": 4,
     "metadata": {},
     "output_type": "execute_result"
    }
   ],
   "source": [
    " airbnb.head()\n",
    "\n"
   ]
  },
  {
   "cell_type": "markdown",
   "metadata": {},
   "source": [
    "### Step 3: <span style=\"color:green\">Exploring your data with Pandas</span> \n",
    "\n",
    "The rest of these questions will have you focus on using the following Pandas Skills:\n",
    "\n",
    "<li> Subsetting a Pandas DataFrame using [] and boolean operators </li>\n",
    "<li> Summing up records with value_counts()</li>\n",
    "<li> Creating calculated fields </li>\n",
    "<li> Group By in Pandas </li> \n",
    "<li> Creating Bar Plots with Matplotlib</li> \n",
    "\n"
   ]
  },
  {
   "cell_type": "markdown",
   "metadata": {},
   "source": [
    "<b> i)  Please count how many Airbnb listings are in each of the 5 Neighbourhood Groups (Manhattan, Brooklyn, Queens, Bronx, Staten Island), then identify which Neighbourhood Groups have the greatest number of Airbnb listings. </b>\n",
    "<p>\n",
    "    <b> Put your code in the box below </b>"
   ]
  },
  {
   "cell_type": "code",
   "execution_count": 5,
   "metadata": {},
   "outputs": [
    {
     "name": "stdout",
     "output_type": "stream",
     "text": [
      "neighbourhood_group\n",
      "Bronx             24803796188\n",
      "Brooklyn         367035792483\n",
      "Manhattan        406683958152\n",
      "Queens           123263814259\n",
      "Staten Island      8055857451\n",
      "Name: id, dtype: int64\n",
      "manhattan has the greatest number of airbnb listings\n"
     ]
    }
   ],
   "source": [
    "store_counts = airbnb.groupby(\"neighbourhood_group\")[\"id\"].sum()\n",
    "print(store_counts)\n",
    "\n",
    "print(\"manhattan has the greatest number of airbnb listings\")"
   ]
  },
  {
   "cell_type": "markdown",
   "metadata": {},
   "source": [
    "We want to focus our attention on the 3 most popular Neighbourhood Groups, by listing volume.\n",
    "\n",
    "<b> ii) Calculate the percentage of Airbnb listings that each Neighbourhood Group contains. </b>\n",
    "\n",
    "See this resource for more details <a href = https://pandas.pydata.org/pandas-docs/stable/reference/api/pandas.Series.value_counts.html>. </a>\n",
    "\n",
    "<b> Put your code in the box below. </b>"
   ]
  },
  {
   "cell_type": "code",
   "execution_count": 6,
   "metadata": {},
   "outputs": [
    {
     "name": "stdout",
     "output_type": "stream",
     "text": [
      "neighbourhood_group\n",
      "Bronx            0.026675\n",
      "Brooklyn         0.394729\n",
      "Manhattan        0.437368\n",
      "Queens           0.132564\n",
      "Staten Island    0.008664\n",
      "Name: id, dtype: float64\n"
     ]
    }
   ],
   "source": [
    "\n",
    "sales_by_type = airbnb.groupby(\"neighbourhood_group\")[\"id\"].sum()\n",
    "sales_propn_by_type = sales_by_type / sum(sales_by_type)\n",
    "print(sales_propn_by_type)"
   ]
  },
  {
   "cell_type": "markdown",
   "metadata": {},
   "source": [
    "<b> iii) Create a new calculated field called Revenue and place this into the Airbnb DataFrame. This is to be calculated by using the Price Column x Number_Of_Reviews Columns </b>\n",
    "\n",
    "<b> Put your code in the box below </b>"
   ]
  },
  {
   "cell_type": "code",
   "execution_count": 7,
   "metadata": {},
   "outputs": [
    {
     "name": "stdout",
     "output_type": "stream",
     "text": [
      "             id                                               name   host_id  \\\n",
      "0          2539                 Clean & quiet apt home by the park      2787   \n",
      "1          2595                              Skylit Midtown Castle      2845   \n",
      "2          3647                THE VILLAGE OF HARLEM....NEW YORK !      4632   \n",
      "3          3831                    Cozy Entire Floor of Brownstone      4869   \n",
      "4          5022   Entire Apt: Spacious Studio/Loft by central park      7192   \n",
      "...         ...                                                ...       ...   \n",
      "48890  36484665    Charming one bedroom - newly renovated rowhouse   8232441   \n",
      "48891  36485057      Affordable room in Bushwick/East Williamsburg   6570630   \n",
      "48892  36485431            Sunny Studio at Historical Neighborhood  23492952   \n",
      "48893  36485609               43rd St. Time Square-cozy single bed  30985759   \n",
      "48894  36487245  Trendy duplex in the very heart of Hell's Kitchen  68119814   \n",
      "\n",
      "           host_name neighbourhood_group       neighbourhood  latitude  \\\n",
      "0               John            Brooklyn          Kensington  40.64749   \n",
      "1           Jennifer           Manhattan             Midtown  40.75362   \n",
      "2          Elisabeth           Manhattan              Harlem  40.80902   \n",
      "3        LisaRoxanne            Brooklyn        Clinton Hill  40.68514   \n",
      "4              Laura           Manhattan         East Harlem  40.79851   \n",
      "...              ...                 ...                 ...       ...   \n",
      "48890        Sabrina            Brooklyn  Bedford-Stuyvesant  40.67853   \n",
      "48891        Marisol            Brooklyn            Bushwick  40.70184   \n",
      "48892  Ilgar & Aysel           Manhattan              Harlem  40.81475   \n",
      "48893            Taz           Manhattan      Hell's Kitchen  40.75751   \n",
      "48894     Christophe           Manhattan      Hell's Kitchen  40.76404   \n",
      "\n",
      "       longitude        room_type  price  minimum_nights  number_of_reviews  \\\n",
      "0      -73.97237     Private room    149               1                  9   \n",
      "1      -73.98377  Entire home/apt    225               1                 45   \n",
      "2      -73.94190     Private room    150               3                  0   \n",
      "3      -73.95976  Entire home/apt     89               1                270   \n",
      "4      -73.94399  Entire home/apt     80              10                  9   \n",
      "...          ...              ...    ...             ...                ...   \n",
      "48890  -73.94995     Private room     70               2                  0   \n",
      "48891  -73.93317     Private room     40               4                  0   \n",
      "48892  -73.94867  Entire home/apt    115              10                  0   \n",
      "48893  -73.99112      Shared room     55               1                  0   \n",
      "48894  -73.98933     Private room     90               7                  0   \n",
      "\n",
      "      last_review  reviews_per_month  calculated_host_listings_count  \\\n",
      "0      19/10/2018               0.21                               6   \n",
      "1      21/05/2019               0.38                               2   \n",
      "2             NaN                NaN                               1   \n",
      "3       5/07/2019               4.64                               1   \n",
      "4      19/11/2018               0.10                               1   \n",
      "...           ...                ...                             ...   \n",
      "48890         NaN                NaN                               2   \n",
      "48891         NaN                NaN                               2   \n",
      "48892         NaN                NaN                               1   \n",
      "48893         NaN                NaN                               6   \n",
      "48894         NaN                NaN                               1   \n",
      "\n",
      "       availability_365  Revenue  \n",
      "0                   365     1341  \n",
      "1                   355    10125  \n",
      "2                   365        0  \n",
      "3                   194    24030  \n",
      "4                     0      720  \n",
      "...                 ...      ...  \n",
      "48890                 9        0  \n",
      "48891                36        0  \n",
      "48892                27        0  \n",
      "48893                 2        0  \n",
      "48894                23        0  \n",
      "\n",
      "[48895 rows x 17 columns]\n"
     ]
    }
   ],
   "source": [
    "airbnb[\"Revenue\"] = airbnb[\"price\"] * airbnb[\"number_of_reviews\"]\n",
    "print(airbnb)"
   ]
  },
  {
   "cell_type": "markdown",
   "metadata": {},
   "source": [
    "<b> iv) Create a Bar Plot that shows which Neighbourhood Group has the highest average revenues. In order to best\n",
    "calculate this, you'd want to consider how you can use the .groupby() syntax to assist you! </b>\n",
    "\n",
    "If you're stuck, we recommend you go back to this <a href = https://learn.datacamp.com/courses/manipulating-dataframes-with-pandas> DataCamp link</a>. Specifically, Chapter 4 which covers how GROUP BY is used in Pandas.\n",
    "\n",
    "<b> Put your code in the box below. </b>"
   ]
  },
  {
   "cell_type": "code",
   "execution_count": 11,
   "metadata": {
    "jp-MarkdownHeadingCollapsed": true,
    "tags": []
   },
   "outputs": [
    {
     "name": "stdout",
     "output_type": "stream",
     "text": [
      "neighbourhood_group\n",
      "Bronx             2181389\n",
      "Brooklyn         58855815\n",
      "Manhattan        73126682\n",
      "Queens           13599256\n",
      "Staten Island      948078\n",
      "Name: Revenue, dtype: int64\n"
     ]
    },
    {
     "data": {
      "image/png": "[encoded data removed]",
      "text/plain": [
       "<Figure size 432x288 with 1 Axes>"
      ]
     },
     "metadata": {
      "needs_background": "light"
     },
     "output_type": "display_data"
    }
   ],
   "source": [
    "import matplotlib.pyplot as plt\n",
    "\n",
    "\n",
    "a = airbnb.groupby(\"neighbourhood_group\")[\"Revenue\"].sum()\n",
    "print(a)\n",
    "x = list(a.index)\n",
    "y = list(a)\n",
    "\n",
    "fig, ax = plt.subplots()    \n",
    "width = 0.75 # the width of the bars \n",
    "ind = np.arange(len(y))  # the x locations for the groups\n",
    "ax.barh(ind, y, width, color=\"blue\")\n",
    "ax.set_yticks(ind+width/2)\n",
    "ax.set_yticklabels(x, minor=False)\n",
    "for i, v in enumerate(y):\n",
    "    ax.text(v + .25, i + .25, str(v), color='blue', fontweight='bold') #add value labels into bar\n",
    "plt.title('neighborhood revenues')\n",
    "plt.xlabel('revenues')\n",
    "plt.ylabel('neighborhood')\n",
    "plt.show()\n"
   ]
  },
  {
   "cell_type": "raw",
   "metadata": {
    "tags": []
   },
   "source": [
    "<h3> <span style=\"color:green\">Challenge Questions</span> </h3>"
   ]
  },
  {
   "cell_type": "markdown",
   "metadata": {},
   "source": [
    "<b> V) Filter the Airbnb DataFrame to include only the Neighbourhood Groups Manhattan, Brooklyn, and Queens. \n",
    "    \n",
    "Then, identify the top 3 Revenue Generating Neighborhoods within each of the 3 Neighbourhood_Groups. This should give us 9 Overall Rows: 3 of the top generating neighbourhoods within each of the 3 Neighbourhood_Groups </b>\n",
    "\n",
    "This is a tricky question that will *test* your group-by skills.\n",
    "\n",
    "We recommend you consider the following:\n",
    "\n",
    "    condition1 = someDataFrame['someColumn']=='someCondition'\n",
    "    condition2 = someDataFrame['someColumn']=='someCondition'\n",
    "    \n",
    "    Step One - Filter the DataFrame using the Conditions\n",
    "    filtered_dataframe = someDataFrame[condition1 OR condition 2] \n",
    "    #Hint: You might want to look up what the OR symbol in Python is represented as in operator form (i.e. AND (&) )\n",
    "    \n",
    "    Step Two - Group the Data by Neighbourhood_Group and Neighbourhood. Don't forget you're looking to SUM up the Revenues.\n",
    "    \n",
    "    The remaining steps we recommend you think very carefully about.\n",
    "    \n",
    "    You might want to make use of the .reset_index(inplace=True) function to help reset the indexes in \n",
    "    your Grouped Up Dataframe...!\n",
    "    \n",
    "    \n",
    "<b> Put your code in the box below. </b>"
   ]
  },
  {
   "cell_type": "code",
   "execution_count": 56,
   "metadata": {},
   "outputs": [
    {
     "name": "stdout",
     "output_type": "stream",
     "text": [
      "  neighbourhood_group       neighbourhood  Revenue\n",
      "0               Bronx      Pelham Gardens    36450\n",
      "1               Bronx            Allerton    33875\n",
      "2               Bronx           Concourse    29750\n",
      "3            Brooklyn        Clinton Hill   140859\n",
      "4            Brooklyn  Bedford-Stuyvesant   127050\n",
      "5            Brooklyn        Williamsburg   125000\n",
      "6           Manhattan             Tribeca   257025\n",
      "7           Manhattan              Nolita   206310\n",
      "8           Manhattan   Flatiron District   150450\n"
     ]
    }
   ],
   "source": [
    " cities = [\"Bronx\", \"Brooklyn\", \"Manhattan\"]\n",
    " city = airbnb[airbnb[\"neighbourhood_group\"].isin(cities)]\n",
    " city_srt = city.sort_values(\"neighbourhood_group\", ascending=False)\n",
    " result = city_srt[[\"neighbourhood_group\", \"neighbourhood\", \"Revenue\"]]\n",
    " resultb = result.set_index(['neighbourhood']).groupby('neighbourhood_group')['Revenue'].nlargest(3).reset_index()\n",
    "    # See the result\n",
    "print(resultb)\n",
    " "
   ]
  },
  {
   "cell_type": "code",
   "execution_count": null,
   "metadata": {},
   "outputs": [],
   "source": [
    "<b> VI) Filter the Airbnb Dataframe to include only the top 3 Neighbroos within each neighbourhood_group. \n",
    "    \n",
    "After doing this, identify the top average revenue-generating room-type for each of the nine neighbourhoods and plot this  in a Bar Chart.</b>\n",
    "\n",
    "This is a tricky question that will *test* your group-by skills. Think back to the previous question and how you approached this; you can approach this in a similar manner. \n",
    "\n",
    "We recommend you consider the following:\n",
    "\n",
    "    condition1 = someDataFrame['someColumn']=='someCondition'\n",
    "    condition2 = someDataFrame['someColumn']=='someCondition'\n",
    "    \n",
    "    Step One - Filter the Dataframe using the Conditions\n",
    "    filtered_dataframe = someDataFrame[condition1 OR condition 2] \n",
    "    #Hint: You might want to look up what the OR symbol in Python is represented as in operator form (i.e. AND (&) )\n",
    "    \n",
    "    Step Two - Group the Data by Neighbourhood_Group and Neighbourhood. Don't forget you're looking to SUM up the Revenues.\n",
    "    \n",
    "    The remaining steps we recommend you think very carefully about.\n",
    "    \n",
    "    You might want to make use of the .reset_index(inplace=True) function to help reset the indexes in \n",
    "    your Grouped Up Dataframe...!\n",
    "    \n",
    "    \n",
    " <b> Put your code in the box below. </b>      "
   ]
  },
  {
   "cell_type": "code",
   "execution_count": 125,
   "metadata": {},
   "outputs": [
    {
     "data": {
      "image/png": "[encoded data removed]",
      "text/plain": [
       "<Figure size 432x288 with 1 Axes>"
      ]
     },
     "metadata": {
      "needs_background": "light"
     },
     "output_type": "display_data"
    },
    {
     "name": "stdout",
     "output_type": "stream",
     "text": [
      "         neighbourhood        room_type      Revenue\n",
      "20        Williamsburg  Entire home/apt  4659.608673\n",
      "0             Allerton  Entire home/apt  6179.375000\n",
      "8            Concourse  Entire home/apt  5249.300000\n",
      "15      Pelham Gardens  Entire home/apt  5903.411765\n",
      "5         Clinton Hill  Entire home/apt  5056.283237\n",
      "2   Bedford-Stuyvesant  Entire home/apt  5923.995600\n",
      "18             Tribeca  Entire home/apt  5222.587413\n",
      "12              Nolita  Entire home/apt  7355.715152\n",
      "10   Flatiron District  Entire home/apt  7839.584615\n"
     ]
    }
   ],
   "source": [
    " neigbhbor1 = [\"Allerton\", \"Concourse\", \"Clinton Hill\", \"Pelham Gardens\" , \"Bedford-Stuyvesant\", \"Williamsburg\", \"Tribeca\", \"Nolita\", \"Flatiron District\" ]\n",
    " hood = airbnb[airbnb[\"neighbourhood\"].isin(neigbhbor1)]\n",
    " hood1 = hood.groupby([\"neighbourhood\", \"room_type\"]).mean()[\"Revenue\"].reset_index()\n",
    " Williamsburg = hood1[hood1[\"neighbourhood\"] == \"Williamsburg\"].head(1)\n",
    " Allerton = hood1[hood1[\"neighbourhood\"] == \"Allerton\"].head(1)\n",
    " Concourse = hood1[hood1[\"neighbourhood\"] == \"Concourse\"].head(1)\n",
    " Pelham_Gardens = hood1[hood1[\"neighbourhood\"] == \"Pelham Gardens\"].head(1)\n",
    " Clinton_Hill = hood1[hood1[\"neighbourhood\"] == \"Clinton Hill\"].head(1)\n",
    " Bedford_Stuyvesant = hood1[hood1[\"neighbourhood\"] == \"Bedford-Stuyvesant\"].head(1)\n",
    " Tribeca = hood1[hood1[\"neighbourhood\"] == \"Tribeca\"].head(1)\n",
    " Nolita = hood1[hood1[\"neighbourhood\"] == \"Nolita\"].head(1)\n",
    " Flatiron_District = hood1[hood1[\"neighbourhood\"] == \"Flatiron District\"].head(1)\n",
    " Finale = pd.concat([Williamsburg,Allerton,Concourse,Pelham_Gardens,Clinton_Hill,Bedford_Stuyvesant,Tribeca,Nolita,Flatiron_District])\n",
    " Finale.groupby(['neighbourhood','room_type']).mean().sort_values(by=['Revenue'],ascending=False)['Revenue'].groupby(['neighbourhood']).head(1).plot(kind='bar')\n",
    "\n",
    "\n",
    "plt.title(\"Popular Airbnb Neighbourhoods by Room Type\")\n",
    "plt.show()\n",
    "print(Finale)"
   ]
  },
  {
   "cell_type": "code",
   "execution_count": 108,
   "metadata": {},
   "outputs": [
    {
     "data": {
      "image/png": "[encoded data removed]",
      "text/plain": [
       "<Figure size 432x288 with 1 Axes>"
      ]
     },
     "metadata": {
      "needs_background": "light"
     },
     "output_type": "display_data"
    }
   ],
   "source": [
    "\n",
    "sales_by_type = mojave_homelessness.groupby(\"room_type\")[\"Revenue\"].mean()\n",
    "# Create a bar plot of the number of avocados sold by size room_type\n",
    "sales_by_type.plot(kind=\"bar\")\n",
    "\n",
    "# Show the plot\n",
    "plt.show()"
   ]
  },
  {
   "cell_type": "code",
   "execution_count": null,
   "metadata": {},
   "outputs": [],
   "source": []
  }
 ],
 "metadata": {
  "kernelspec": {
   "display_name": "Python 3 (ipykernel)",
   "language": "python",
   "name": "python3"
  },
  "language_info": {
   "codemirror_mode": {
    "name": "ipython",
    "version": 3
   },
   "file_extension": ".py",
   "mimetype": "text/x-python",
   "name": "python",
   "nbconvert_exporter": "python",
   "pygments_lexer": "ipython3",
   "version": "3.9.7"
  }
 },
 "nbformat": 4,
 "nbformat_minor": 4
}
